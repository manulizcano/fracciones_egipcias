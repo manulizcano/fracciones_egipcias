{
  "nbformat": 4,
  "nbformat_minor": 0,
  "metadata": {
    "colab": {
      "provenance": []
    },
    "kernelspec": {
      "name": "python3",
      "display_name": "Python 3"
    },
    "language_info": {
      "name": "python"
    }
  },
  "cells": [
    {
      "cell_type": "code",
      "source": [
        "def mcd(a,b):\n",
        "  a = abs(a)\n",
        "  b = abs(b)\n",
        "  x = max(a,b)\n",
        "  y = min(a,b)\n",
        "  contador = 0\n",
        "  lista=[0,0]\n",
        "  r=1\n",
        "  while r!=0 :\n",
        "    r = x%y\n",
        "    x= y\n",
        "    y=r\n",
        "    contador += 1\n",
        "  return x"
      ],
      "metadata": {
        "id": "dQEJPtnJwaP-"
      },
      "execution_count": null,
      "outputs": []
    },
    {
      "cell_type": "code",
      "execution_count": null,
      "metadata": {
        "id": "O37AAW7Rcfmx"
      },
      "outputs": [],
      "source": [
        "def obtener_fracciones_egipcias(a,b): # La pareja (a,b) representa a/b\n",
        "  if(a>=b):\n",
        "    return \"a debe ser menor a b\"\n",
        "  lista_solucion = []\n",
        "  while a!=1:\n",
        "    k = int(b/a)+1            # intentamos obtener k de tal manera que la fraccion de la forma 1/k\n",
        "    lista_solucion.append(k)\n",
        "    a= a*k - b                 # actualizamos el valor de a/b con el valor de la resta a/b - 1/k\n",
        "    b = b*k\n",
        "\n",
        "    m = mcd(a,b)  #dividimos entre el mcd para que a y b sean primos relativo\n",
        "    a = int(a/m)\n",
        "    b = int(b/m)\n",
        "\n",
        "  lista_solucion.append(int(b/a))\n",
        "  return lista_solucion"
      ]
    },
    {
      "cell_type": "code",
      "source": [
        "obtener_fracciones_egipcias(4,5)"
      ],
      "metadata": {
        "colab": {
          "base_uri": "https://localhost:8080/"
        },
        "id": "ACfUpDD3d-I5",
        "outputId": "b0fa9926-bade-4888-9116-2c61c668edcb"
      },
      "execution_count": null,
      "outputs": [
        {
          "output_type": "execute_result",
          "data": {
            "text/plain": [
              "[2, 4, 20]"
            ]
          },
          "metadata": {},
          "execution_count": 3
        }
      ]
    },
    {
      "cell_type": "code",
      "source": [
        "u=4\n",
        "v=5\n",
        "li = obtener_fracciones_egipcias(u,v)\n",
        "x=[1,li[0]]\n",
        "for i in range(1, len(li)):\n",
        "  c = li[i]\n",
        "  m=x[0]\n",
        "  n=x[1]\n",
        "  x[0] = m*c + n\n",
        "  x[1] = n*c\n",
        "  print('x:',x)\n",
        "\n",
        "d = mcd(x[0],x[1])\n",
        "x[0] = int(x[0]/d)\n",
        "x[1] = int(x[1]/d)\n",
        "\n",
        "print(x)"
      ],
      "metadata": {
        "colab": {
          "base_uri": "https://localhost:8080/"
        },
        "id": "14IbLqTdiki6",
        "outputId": "e2ebcc23-b452-4ef0-c0b6-b559cfc2168c"
      },
      "execution_count": null,
      "outputs": [
        {
          "output_type": "stream",
          "name": "stdout",
          "text": [
            "x: [6, 8]\n",
            "x: [128, 160]\n",
            "[4, 5]\n"
          ]
        }
      ]
    }
  ]
}